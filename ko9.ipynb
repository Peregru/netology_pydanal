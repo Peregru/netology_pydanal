{
 "cells": [
  {
   "cell_type": "markdown",
   "metadata": {},
   "source": [
    "Задание 1\n",
    "Напишите функцию date_range, которая возвращает список дней между датами start_date и end_date. Даты должны вводиться в формате YYYY-MM-DD."
   ]
  },
  {
   "cell_type": "code",
   "execution_count": 1,
   "metadata": {},
   "outputs": [
    {
     "name": "stdout",
     "output_type": "stream",
     "text": [
      "Инпут мы опустим, но типа вы ввели: 2019-08-29 2019-09-07\n",
      "30.08.2019\n",
      "31.08.2019\n",
      "01.09.2019\n",
      "02.09.2019\n",
      "03.09.2019\n",
      "04.09.2019\n",
      "05.09.2019\n",
      "06.09.2019\n"
     ]
    }
   ],
   "source": [
    "start_date = '2019-08-29'\n",
    "end_date = '2019-09-07'\n",
    "print(\"Инпут мы опустим, но типа вы ввели:\",start_date,end_date)\n",
    "from datetime import datetime\n",
    "from datetime import timedelta\n",
    "start_date = datetime.strptime(start_date, '%Y-%m-%d')\n",
    "end_date = datetime.strptime(end_date, '%Y-%m-%d')\n",
    "start_date = start_date + timedelta(days=1)\n",
    "if end_date > start_date:\n",
    "    while start_date < end_date:\n",
    "        print(start_date.strftime('%d.%m.%Y'))  \n",
    "        start_date = start_date + timedelta(days=1)\n",
    "else:\n",
    "    print ('Чо?')"
   ]
  },
  {
   "cell_type": "markdown",
   "metadata": {},
   "source": [
    "Задание 2\n",
    "Дополните функцию из первого задания проверкой на корректность дат. В случае неверного формата или если start_date > end_date должен возвращаться пустой список."
   ]
  },
  {
   "cell_type": "code",
   "execution_count": 16,
   "metadata": {},
   "outputs": [
    {
     "ename": "SyntaxError",
     "evalue": "'return' outside function (<ipython-input-16-e8bcaab964c2>, line 6)",
     "output_type": "error",
     "traceback": [
      "\u001b[0;36m  File \u001b[0;32m\"<ipython-input-16-e8bcaab964c2>\"\u001b[0;36m, line \u001b[0;32m6\u001b[0m\n\u001b[0;31m    return\u001b[0m\n\u001b[0m    ^\u001b[0m\n\u001b[0;31mSyntaxError\u001b[0m\u001b[0;31m:\u001b[0m 'return' outside function\n"
     ]
    }
   ],
   "source": [
    "start_date = '2019- 08-29'\n",
    "try:\n",
    "    start_date = datetime.strptime(start_date, '%Y-%m-%d')\n",
    "except Exception:\n",
    "    print ('Я пустой список, привет')\n",
    "    return\n",
    "print ('Я непустой список, привет')\n",
    "#start_date = datetime.strptime(start_date, '%Y-%m-%d')\n",
    "\n",
    "\n",
    "#type(start_date)"
   ]
  },
  {
   "cell_type": "code",
   "execution_count": 21,
   "metadata": {},
   "outputs": [
    {
     "name": "stdout",
     "output_type": "stream",
     "text": [
      "Инпут мы опустим, но типа вы ввели: 2019 -08-29 2019-09-07\n",
      "False\n",
      "True\n",
      "Я пустой список, привет\n"
     ]
    }
   ],
   "source": [
    "def try_me(a_date):\n",
    "    try:\n",
    "        start_date = datetime.strptime(a_date, '%Y-%m-%d')\n",
    "        return True\n",
    "    except Exception:\n",
    "        return False\n",
    "\n",
    "start_date = '2019 -08-29'\n",
    "end_date = '2019-09-07'\n",
    "print(\"Инпут мы опустим, но типа вы ввели:\",start_date,end_date)\n",
    "from datetime import datetime\n",
    "from datetime import timedelta\n",
    "print(try_me(start_date))\n",
    "print(try_me(end_date))\n",
    "if try_me(start_date) and try_me(end_date):\n",
    "    start_date = datetime.strptime(start_date, '%Y-%m-%d')\n",
    "    end_date = datetime.strptime(end_date, '%Y-%m-%d')\n",
    "    start_date = start_date + timedelta(days=1)\n",
    "    if end_date > start_date:\n",
    "        while start_date < end_date:\n",
    "            print(start_date.strftime('%d.%m.%Y'))  \n",
    "            start_date = start_date + timedelta(days=1)\n",
    "else:\n",
    "    print ('Я пустой список, привет')"
   ]
  },
  {
   "cell_type": "markdown",
   "metadata": {},
   "source": [
    "Задание 3\n",
    "Дан поток дат в формате YYYY-MM-DD, в которых встречаются некорректные значения:\n",
    "stream = [‘2018-04-02’, ‘2018-02-29’, ‘2018-19-02’]\n",
    "\n",
    "Напишите функцию, которая проверяет эти даты на корректность. Т. е. для каждой даты возвращает True (дата корректна) или False (некорректная дата)."
   ]
  },
  {
   "cell_type": "code",
   "execution_count": 49,
   "metadata": {},
   "outputs": [
    {
     "name": "stdout",
     "output_type": "stream",
     "text": [
      "Howmuchwhatch?\n",
      "20\n",
      "6878-86-63 is a False date\n",
      "2162-34-29 is a False date\n",
      "9710-12-29 is a True date\n",
      "3121-94-37 is a False date\n",
      "3221-87-74 is a False date\n",
      "8618-85-13 is a False date\n",
      "8167-36-11 is a False date\n",
      "9741-08-31 is a True date\n",
      "2058-84-26 is a False date\n",
      "4850-84-89 is a False date\n",
      "4031-42-06 is a False date\n",
      "5174-70-81 is a False date\n",
      "3425-95-00 is a False date\n",
      "7169-87-93 is a False date\n",
      "2609-40-39 is a False date\n",
      "9899-01-73 is a False date\n",
      "4924-50-48 is a False date\n",
      "2871-65-52 is a False date\n",
      "2382-58-61 is a False date\n",
      "3071-93-09 is a False date\n"
     ]
    }
   ],
   "source": [
    "#А что надо было делат ьв предыдущей работе тогда??? Ознакомлюсь тогда с рандомизатором\n",
    "def try_me(a_date):\n",
    "    try:\n",
    "        start_date = datetime.strptime(a_date, '%Y-%m-%d')\n",
    "        return True\n",
    "    except Exception:\n",
    "        return False\n",
    "\n",
    "def randomizer(digits):\n",
    "    return str(random.randrange(10**digits))\n",
    "\n",
    "from datetime import datetime\n",
    "from datetime import timedelta\n",
    "import random\n",
    "print ('Howmuchwhatch?')\n",
    "howmuchwhatch = int(input())\n",
    "for key in range(howmuchwhatch):\n",
    "    a_date = randomizer(4)+'-'+randomizer(1)+randomizer(1)+'-'+randomizer(1)+randomizer(1)\n",
    "    print(a_date, 'is a', try_me(a_date), 'date')\n"
   ]
  },
  {
   "cell_type": "markdown",
   "metadata": {},
   "source": [
    "Задание 5\n",
    "В последнем примере поиска по словарю мы использовали 3 столбца. Напишите функцию, которая формирует словарь для поиска по n столбцам."
   ]
  },
  {
   "cell_type": "code",
   "execution_count": 75,
   "metadata": {},
   "outputs": [
    {
     "name": "stdout",
     "output_type": "stream",
     "text": [
      "Your search str: ('20', '20552', '3', '39156')\n",
      "We ve found: ['20', '20552', '3', '39156']\n"
     ]
    }
   ],
   "source": [
    "#а вот если н7ужны столбцы не по порядку... тогда незнаю\n",
    "line_to_find = [20, 20552,3,39156]\n",
    "line_to_tuple = []\n",
    "n = len(line_to_find)\n",
    "for key in line_to_find:\n",
    "    line_to_tuple.append(str(key))\n",
    "    \n",
    "key_to_find = tuple(line_to_tuple)\n",
    "stats_dict = {}\n",
    "print ('Your search str:',key_to_find)\n",
    "with open('stats.csv') as f:\n",
    "    for line in f:\n",
    "        line = line.strip().split(',')\n",
    "        line_len = len(line)\n",
    "        line_tale = []\n",
    "        for key in line:\n",
    "            line_tale.append(key)\n",
    "        #line_tale.reverse()\n",
    "        stats_dict[tuple(line[:n])] = line_tale\n",
    "stats_dict_len = len(stats_dict)\n",
    "stats_dict\n",
    "for i in range(stats_dict_len):\n",
    "    l = stats_dict[key_to_find]\n",
    "# но можно былобы сделать циклик выводить только хвост от поискового запроса, но зачем?     \n",
    "print('We ve found:',l)"
   ]
  }
 ],
 "metadata": {
  "kernelspec": {
   "display_name": "Python 3",
   "language": "python",
   "name": "python3"
  },
  "language_info": {
   "codemirror_mode": {
    "name": "ipython",
    "version": 3
   },
   "file_extension": ".py",
   "mimetype": "text/x-python",
   "name": "python",
   "nbconvert_exporter": "python",
   "pygments_lexer": "ipython3",
   "version": "3.7.3"
  }
 },
 "nbformat": 4,
 "nbformat_minor": 2
}

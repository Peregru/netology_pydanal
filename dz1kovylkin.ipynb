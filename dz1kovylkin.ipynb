{
 "cells": [
  {
   "cell_type": "markdown",
   "metadata": {},
   "source": [
    "**Задание 1**. Даны 2 строки: *long_phrase* и *short_phrase*. \n",
    "Напишите код, который проверяет действительно ли длинная фраза *long_phrase* длиннее короткой *short_phrase*. И выводит *True* или *False* в зависимости от результата сравнения."
   ]
  },
  {
   "cell_type": "code",
   "execution_count": 1,
   "metadata": {},
   "outputs": [],
   "source": [
    "long_phrase = 'Насколько проще было бы писать программы, если бы не заказчики'\n",
    "short_phrase = '640Кб должно хватить для любых задач. Билл Гейтс (по легенде)'"
   ]
  },
  {
   "cell_type": "code",
   "execution_count": null,
   "metadata": {},
   "outputs": [],
   "source": [
    "long_phrase = 'Насколько проще было бы писать программы, если бы не заказчики'\n",
    "short_phrase = '640Кб должно хватить для любых задач. Билл Гейтс (по легенде)'\n",
    "otvet = len(long_phrase)>len(short_phrase)\n",
    "print (otvet)"
   ]
  },
  {
   "cell_type": "markdown",
   "metadata": {},
   "source": [
    "**Задание 2**. Дано значение объема файла в байтах. Напишите перевод этого значения в мегабайты в формате: \"*Объем файла равен 213.68Mb*\""
   ]
  },
  {
   "cell_type": "code",
   "execution_count": null,
   "metadata": {},
   "outputs": [],
   "source": [
    "obfm=213.68\n",
    "obfb=obfm*1024\n",
    "print(obfb,'байт') \n",
    "print('Вопрос к Олегу - как так пробел сам появился перед \"байт\"?')"
   ]
  },
  {
   "cell_type": "markdown",
   "metadata": {},
   "source": [
    "**Задание 3**. Разработать приложение для определения знака зодиака по дате рождения. Пример:\n",
    "\n",
    "Введите месяц: март\n",
    "\n",
    "Введите число: 6\n",
    "\n",
    "Вывод:\n",
    "Рыбы"
   ]
  },
  {
   "cell_type": "code",
   "execution_count": 16,
   "metadata": {},
   "outputs": [
    {
     "name": "stdout",
     "output_type": "stream",
     "text": [
      "Введи месяц:\n",
      "декабрь\n",
      "А теперь день:\n",
      "19\n",
      "Да ты Стрелец!\n"
     ]
    }
   ],
   "source": [
    "print ('Введи месяц:')\n",
    "month = input()\n",
    "print ('А теперь день:')\n",
    "day = input()\n",
    "day = int(day)\n",
    "correct_months = [\"январь\", \"февраль\", \"март\", \"апрель\", \"май\", \"июнь\", \"июль\", \"август\", \"сентябрь\", \"октябрь\", \"ноябрь\", \"декабрь\"]\n",
    "if month in correct_months and 1 <= day <= 31:\n",
    "    if (month == \"март\" and 21 <= day <= 31) or (month == \"апрель\" and 1 <= day <= 20):\n",
    "        print ('Да ты Овен!')\n",
    "    elif (month == \"апрель\" and 21 <= day <= 30) or (month == \"май\" and 1 <= day <= 20):\n",
    "        print ('Да ты Телец!')\n",
    "    elif (month == \"май\" and 21 <= day <= 31) or (month == \"июнь\" and 1 <= day <= 21):\n",
    "        print ('Да ты Близнецы!')\n",
    "    elif (month == \"июнь\" and 22 <= day <= 30) or (month == \"июль\" and 1 <= day <= 22):\n",
    "        print ('Да ты Рак!')   \n",
    "    elif (month == \"июль\" and 23 <= day <= 31) or (month == \"август\" and 1 <= day <= 23):\n",
    "        print ('Да ты Лев!')   \n",
    "    elif (month == \"август\" and 24 <= day <= 31) or (month == \"сентябрь\" and 1 <= day <= 23):\n",
    "        print ('Да ты Дева!')   \n",
    "    elif (month == \"сентябрь\" and 24 <= day <= 30) or (month == \"октябрь\" and 1 <= day <= 22):\n",
    "        print ('Да ты Весы!')   \n",
    "    elif (month == \"октябрь\" and 24 <= day <= 31) or (month == \"ноябрь\" and 1 <= day <= 22):\n",
    "        print ('Да ты Скорпион!')   \n",
    "    elif (month == \"ноябрь\" and 23 <= day <= 30) or (month == \"декабрь\" and 1 <= day <= 21):\n",
    "        print ('Да ты Стрелец!')   \n",
    "    elif (month == \"декабрь\" and 22 <= day <= 31) or (month == \"январь\" and 1 <= day <= 20):\n",
    "        print ('Да ты Козерог!')   \n",
    "    elif (month == \"январь\" and 21 <= day <= 30) or (month == \"февраль\" and 1 <= day <= 20):\n",
    "        print ('Да ты Водолей!')   \n",
    "    elif (month == \"февраль\" and 21 <= day <= 29) or (month == \"март\" and 1 <= day <= 20):\n",
    "        print ('Да ты Рыбы!')        \n",
    "else:\n",
    "    print ('Ты не с этой звездной системы, чувак!')"
   ]
  },
  {
   "cell_type": "code",
   "execution_count": 29,
   "metadata": {},
   "outputs": [
    {
     "name": "stdout",
     "output_type": "stream",
     "text": [
      "True\n"
     ]
    }
   ],
   "source": [
    "\n",
    "print (\"1000000000a\">\"0.1000000000000000000000000000000\")\n"
   ]
  },
  {
   "cell_type": "markdown",
   "metadata": {},
   "source": [
    "**Задание 4**. Нужно разработать приложение для финансового планирования.\n",
    "Приложение учитывает сколько уходит на ипотеку, \"на жизнь\" и сколько нужно отложить на пенсию.\n",
    "Пользователь вводит:\n",
    "- заработанную плату в месяц.\n",
    "- сколько процентов от ЗП уходит на ипотеку.\n",
    "- сколько процентов от ЗП уходит \"на жизнь\".\n",
    "- сколько раз приходит премия в год.\n",
    "\n",
    "Остальная часть заработанной платы откладывается на пенсию.\n",
    "\n",
    "Также пользователю приходит премия в размере зарплаты, от которой половина уходит на отпуск, а вторая половина откладывается.\n",
    "\n",
    "Программа должна учитывать сколько премий было в год.\n",
    "\n",
    "Нужно вывести сколько денег тратит пользователь на ипотеку и сколько он накопит за год.\n",
    "\n",
    "Пример:\n",
    "\n",
    "Введите заработанную плату в месяц: 100000\n",
    "\n",
    "Введите сколько процентов уходит на ипотеку: 30\n",
    "\n",
    "Введите сколько процентов уходит на жизнь: 50\n",
    "\n",
    "Введите количество премий за год: 2\n",
    "\n",
    "Вывод:\n",
    "На ипотеку было потрачено: 360000 рублей\n",
    "Было накоплено: 340000 рублей"
   ]
  },
  {
   "cell_type": "code",
   "execution_count": 41,
   "metadata": {},
   "outputs": [
    {
     "name": "stdout",
     "output_type": "stream",
     "text": [
      "Введи ЗП:\n",
      "1000\n",
      "А теперь процент котрорый уходит на ипотеку:\n",
      "10\n",
      "Ваши месячные расходы на жысь в процентах:\n",
      "10\n",
      "Количество премий в год:\n",
      "2\n",
      "Вывод: На ипотеку было потрачено: 1200.0 рублей. Было накоплено: 10600.0 рублей\n",
      "Полный вывод:\n",
      "Полная зп: 12000 рублей\n",
      "Ипотека: 1200.0 рублей\n",
      "На жизнь: 1200.0 рублей\n",
      "На отпуск: 1000.0 рублей\n",
      "Сумма бонуса: 2000 рублей\n"
     ]
    }
   ],
   "source": [
    "import re\n",
    "\n",
    "print ('Введи ЗП:')\n",
    "zp = input()\n",
    "if not re.match(\"^[0-9 ]+$\", zp):\n",
    "    print ('Только цифры плз:')\n",
    "    zp = input()\n",
    "else:\n",
    "    zp = int(zp)\n",
    "print ('А теперь процент котрорый уходит на ипотеку:')\n",
    "ipoper = input()\n",
    "if not re.match(\"^[0-9 ]+$\", ipoper):\n",
    "    print ('Только цифры плз, число от 0 до 100:')\n",
    "    ipoper = input()\n",
    "else:\n",
    "    ipoper = int(ipoper)\n",
    "print ('Ваши месячные расходы на жысь в процентах:')\n",
    "lifevalue = input()\n",
    "if not re.match(\"^[0-9 ]+$\", lifevalue):\n",
    "    print ('Только цифры плз, число от 0 до 100:')\n",
    "    lifevalue = input()\n",
    "else:\n",
    "    lifevalue = int(lifevalue)\n",
    "print ('Количество премий в год:')\n",
    "bunuscount = input()\n",
    "if not re.match(\"^[0-9 ]+$\", bunuscount):\n",
    "    print ('Только цифры плз:')\n",
    "    bunuscount = input()\n",
    "else:\n",
    "    bunuscount = int(bunuscount)\n",
    "ipocount = 12*(zp/100)*ipoper\n",
    "lifecount = 12*(zp/100)*lifevalue\n",
    "vacation = zp*bunuscount/2\n",
    "retbonus = zp*bunuscount/2\n",
    "retirement = 12*zp-ipocount-lifecount+retbonus\n",
    "print ('Вывод: На ипотеку было потрачено:', ipocount, 'рублей. Было накоплено:', retirement, 'рублей')\n",
    "print ('Полный вывод:')\n",
    "print ('Полная зп:', zp*12, 'рублей')\n",
    "print ('Ипотека:', ipocount, 'рублей')\n",
    "print ('На жизнь:', lifecount, 'рублей')\n",
    "print ('На отпуск:', vacation, 'рублей')\n",
    "print ('Сумма бонуса:', zp*bunuscount, 'рублей')\n"
   ]
  }
 ],
 "metadata": {
  "kernelspec": {
   "display_name": "Python 3",
   "language": "python",
   "name": "python3"
  },
  "language_info": {
   "codemirror_mode": {
    "name": "ipython",
    "version": 3
   },
   "file_extension": ".py",
   "mimetype": "text/x-python",
   "name": "python",
   "nbconvert_exporter": "python",
   "pygments_lexer": "ipython3",
   "version": "3.7.3"
  }
 },
 "nbformat": 4,
 "nbformat_minor": 2
}

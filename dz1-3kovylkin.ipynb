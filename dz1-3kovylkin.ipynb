{
 "cells": [
  {
   "cell_type": "markdown",
   "metadata": {},
   "source": [
    "## Задание 1"
   ]
  },
  {
   "cell_type": "markdown",
   "metadata": {},
   "source": [
    "Дан список вида:"
   ]
  },
  {
   "cell_type": "code",
   "execution_count": 6,
   "metadata": {},
   "outputs": [],
   "source": [
    "data = [\n",
    "    [13, 25, 23, 34],\n",
    "    [45, 32, 44, 47],\n",
    "    [12, 33, 23, 95],\n",
    "    [13, 53, 34, 35]\n",
    "]"
   ]
  },
  {
   "cell_type": "markdown",
   "metadata": {},
   "source": [
    "Напишите функцию, которая возвращает сумму элементов на диагонали. Т. е. 13+32+23+35."
   ]
  },
  {
   "cell_type": "code",
   "execution_count": 22,
   "metadata": {},
   "outputs": [
    {
     "name": "stdout",
     "output_type": "stream",
     "text": [
      "Сумма =  103\n"
     ]
    }
   ],
   "source": [
    "data = [\n",
    "    [13, 25, 23, 34],\n",
    "    [45, 32, 44, 47],\n",
    "    [12, 33, 23, 95],\n",
    "    [13, 53, 34, 35]\n",
    "]\n",
    "\n",
    "def diagonaler(matrix):\n",
    "    i = 0\n",
    "    sum = 0\n",
    "    for key in matrix:\n",
    "        sum = sum + key[i]\n",
    "        i = i + 1\n",
    "    return sum\n",
    "\n",
    "#vartoprint = diagonaler(data)\n",
    "#print (vartoprint)\n",
    "print (\"Сумма =\",diagonaler(data))\n",
    "#print (\"Проверка\",13+32+23+35)"
   ]
  },
  {
   "cell_type": "markdown",
   "metadata": {},
   "source": [
    "## Задание 2"
   ]
  },
  {
   "cell_type": "markdown",
   "metadata": {},
   "source": [
    "Дан список чисел, часть из которых имеют строковый тип или содержат буквы. Напишите функцию, которая возвращает сумму квадратов элементов, которые могут быть числами."
   ]
  },
  {
   "cell_type": "code",
   "execution_count": 20,
   "metadata": {},
   "outputs": [],
   "source": [
    "data = [1, '5', 'abc', 20, '2']"
   ]
  },
  {
   "cell_type": "code",
   "execution_count": 52,
   "metadata": {},
   "outputs": [
    {
     "name": "stdout",
     "output_type": "stream",
     "text": [
      "Исходный массив [1, '5', 'abc', 20, '2']\n",
      "Очищенный массив [1, 5.0, 20, 2.0]\n",
      "Сумма квадратиков = 430.0\n"
     ]
    }
   ],
   "source": [
    "data = [1, '5', 'abc', 20, '2']\n",
    "print(\"Исходный массив\",data)\n",
    "\n",
    "def deletter(in_list):\n",
    "    i = 0\n",
    "    for key in in_list:\n",
    "        temp = in_list[i]\n",
    "        if type(key) == str and key.isdigit():\n",
    "            in_list[i] = float(temp)\n",
    "        if type(key) == str and not key.isdigit():\n",
    "            del in_list[i]\n",
    "        i = i+1\n",
    "    return in_list\n",
    "\n",
    "def sum_squarer(in_list):\n",
    "    sum_square = 0\n",
    "    for key in in_list:\n",
    "        sum_square = sum_square + key*key\n",
    "    return sum_square\n",
    "\n",
    "data = deletter(data)\n",
    "print(\"Очищенный массив\",data)\n",
    "result = sum_squarer(data)\n",
    "print(\"Сумма квадратиков =\",result)"
   ]
  },
  {
   "cell_type": "markdown",
   "metadata": {},
   "source": [
    "## Задание 3"
   ]
  },
  {
   "cell_type": "markdown",
   "metadata": {},
   "source": [
    "Напишите функцию, возвращающую сумму первых n чисел Фибоначчи."
   ]
  },
  {
   "cell_type": "code",
   "execution_count": 7,
   "metadata": {},
   "outputs": [
    {
     "name": "stdout",
     "output_type": "stream",
     "text": [
      "Введите точно, сколько вешать граммов: \n",
      "100\n",
      "Вы ввели 100\n",
      "Ваш ряд [0, 1, 1, 2, 3, 5, 8, 13, 21, 34, 55, 89, 144, 233, 377, 610, 987, 1597, 2584, 4181, 6765, 10946, 17711, 28657, 46368, 75025, 121393, 196418, 317811, 514229, 832040, 1346269, 2178309, 3524578, 5702887, 9227465, 14930352, 24157817, 39088169, 63245986, 102334155, 165580141, 267914296, 433494437, 701408733, 1134903170, 1836311903, 2971215073, 4807526976, 7778742049, 12586269025, 20365011074, 32951280099, 53316291173, 86267571272, 139583862445, 225851433717, 365435296162, 591286729879, 956722026041, 1548008755920, 2504730781961, 4052739537881, 6557470319842, 10610209857723, 17167680177565, 27777890035288, 44945570212853, 72723460248141, 117669030460994, 190392490709135, 308061521170129, 498454011879264, 806515533049393, 1304969544928657, 2111485077978050, 3416454622906707, 5527939700884757, 8944394323791464, 14472334024676221, 23416728348467685, 37889062373143906, 61305790721611591, 99194853094755497, 160500643816367088, 259695496911122585, 420196140727489673, 679891637638612258, 1100087778366101931, 1779979416004714189, 2880067194370816120, 4660046610375530309, 7540113804746346429, 12200160415121876738, 19740274219868223167, 31940434634990099905, 51680708854858323072, 83621143489848422977, 135301852344706746049, 218922995834555169026]\n",
      "Ваша сумма 573147844013817084100\n"
     ]
    }
   ],
   "source": [
    "def fibonizer(num):\n",
    "    fib = []\n",
    "    for key in range(num):\n",
    "        if key == 0:\n",
    "            fib.append(0)\n",
    "        elif key == 1:\n",
    "            fib.append(1)\n",
    "        else:\n",
    "            fib.append(fib[key-1] + fib[key-2])\n",
    "    return fib\n",
    "\n",
    "def summizer(fib):\n",
    "    fib_sum = 0\n",
    "    for key in fib:\n",
    "        fib_sum = fib_sum + key\n",
    "    return fib_sum\n",
    "        \n",
    "  \n",
    "print(\"Введите точно, сколько вешать граммов: \")\n",
    "num = int(input())\n",
    "print (\"Вы ввели\", num)\n",
    "print(\"Ваш ряд\",fibonizer(num))\n",
    "print(\"Ваша сумма\",summizer(fibonizer(num)))\n"
   ]
  },
  {
   "cell_type": "markdown",
   "metadata": {},
   "source": [
    "## Задание 4"
   ]
  },
  {
   "cell_type": "markdown",
   "metadata": {},
   "source": [
    "Дан набор данных об обучении студентов на курсе программирования, который содержит: \n",
    "1) имя\n",
    "2) фамилию \n",
    "3) пол \n",
    "4) наличие у студента опыта в программировании \n",
    "5) набор оценок за домашние работы \n",
    "6) оценку за итоговую работу.\n",
    "\n",
    "Напишите программу, которая будет принимать команду от пользователя и возвращать соотвествующий результат.\n",
    "Список команд: \n",
    "1 - вывести на экран среднюю оценку за все ДЗ по группе и вывести на экран среднюю оценку за экзамен по группе;\n",
    "2 - вывести среднюю оценку за ДЗ и за экзамен по группе в разрезе пола студентов\n",
    "3 - вывести среднюю оценку за ДЗ и за экзамен в разрезе наличия опыта в программировании у студентов.\n",
    "\n",
    "Прогрмма должна быть полностью декомпозирована на функции (кроме объявления функций и вызова итоговой функции в реализации ничего быть не должно)."
   ]
  },
  {
   "cell_type": "code",
   "execution_count": null,
   "metadata": {},
   "outputs": [],
   "source": [
    "students_list = [\n",
    "    {'name': 'Василий', 'surname': 'Теркин', 'sex': 'м', 'program_exp': True, 'grade': [8, 8, 9, 10, 9], 'exam': 9},\n",
    "    {'name': 'Мария', 'surname': 'Павлова', 'sex': 'ж', 'program_exp': True, 'grade': [7, 8, 9, 7, 9], 'exam': 8},\n",
    "    {'name': 'Ирина', 'surname': 'Андреева', 'sex': 'ж', 'program_exp': True, 'grade': [10, 9, 8, 10, 10], 'exam': 10},\n",
    "    {'name': 'Татьяна', 'surname': 'Сидорова', 'sex': 'ж', 'program_exp': True, 'grade': [7, 8, 8, 9, 8], 'exam': 8},\n",
    "    {'name': 'Иван', 'surname': 'Васильев', 'sex': 'ж', 'program_exp': True, 'grade': [9, 8, 9, 6, 9], 'exam': 10},\n",
    "    {'name': 'Роман', 'surname': 'Золотарев', 'sex': 'ж', 'program_exp': False, 'grade': [8, 9, 9, 6, 9], 'exam': 10}\n",
    "]"
   ]
  },
  {
   "cell_type": "code",
   "execution_count": 66,
   "metadata": {},
   "outputs": [
    {
     "name": "stdout",
     "output_type": "stream",
     "text": [
      "Введите комманду от 1 до 3\n",
      "3\n",
      "Опытные\n",
      "Средняя оценка: 8.48 Средний экзамен: 9.0\n",
      "Не опытные\n",
      "Средняя оценка: 8.2 Средний экзамен: 10.0\n"
     ]
    }
   ],
   "source": [
    "students_list = [\n",
    "    {'name': 'Василий', 'surname': 'Теркин', 'sex': 'м', 'program_exp': True, 'grade': [8, 8, 9, 10, 9], 'exam': 9},\n",
    "    {'name': 'Мария', 'surname': 'Павлова', 'sex': 'ж', 'program_exp': True, 'grade': [7, 8, 9, 7, 9], 'exam': 8},\n",
    "    {'name': 'Ирина', 'surname': 'Андреева', 'sex': 'ж', 'program_exp': True, 'grade': [10, 9, 8, 10, 10], 'exam': 10},\n",
    "    {'name': 'Татьяна', 'surname': 'Сидорова', 'sex': 'ж', 'program_exp': True, 'grade': [7, 8, 8, 9, 8], 'exam': 8},\n",
    "    {'name': 'Иван', 'surname': 'Васильев', 'sex': 'ж', 'program_exp': True, 'grade': [9, 8, 9, 6, 9], 'exam': 10},\n",
    "    {'name': 'Роман', 'surname': 'Золотарев', 'sex': 'ж', 'program_exp': False, 'grade': [8, 9, 9, 6, 9], 'exam': 10}\n",
    "]\n",
    "\n",
    "def commandone(students_list):\n",
    "    avg = 0\n",
    "    i = 0\n",
    "    for key in students_list:\n",
    "        print (\"Средняя оценка студента\", key.get('name'), key.get('surname'))\n",
    "        avgi = 0\n",
    "        ii = 0\n",
    "        for key2 in key.get('grade'):\n",
    "            avgi=avgi+key2\n",
    "            ii = ii + 1\n",
    "        #print (key.get('grade'))\n",
    "        print (avgi/ii)\n",
    "        avg = avg + key.get('exam')\n",
    "        i = i + 1\n",
    "    print (\"Средняя оценка группы:\", avg/i)\n",
    "    return\n",
    "\n",
    "def commandtwo(students_list):\n",
    "    counter = {}\n",
    "    for key in students_list:\n",
    "        counter[key.get('sex')] = key.get('sex')\n",
    "    #print(counter)\n",
    "    for key in counter: \n",
    "        print (\"Пол\", key)\n",
    "        i = 0\n",
    "        avg = 0\n",
    "        avg_ex = 0\n",
    "        for key2 in students_list:\n",
    "            if key2.get('sex') == key:\n",
    "                avgi = 0\n",
    "                ii = 0\n",
    "                for key3 in key2.get('grade'):\n",
    "                    avgi=avgi+key3\n",
    "                    ii = ii + 1\n",
    "                    #print(\"key\", key, \"key3\", key3, \"avg\", avg, \"avgi\", avgi, \"i\", i, \"ii\", ii)\n",
    "                i = i + 1\n",
    "                avg = avg + avgi/ii\n",
    "                avg_ex = avg_ex + key2.get('exam')\n",
    "        avg = avg/i\n",
    "        avg_ex = avg_ex/i\n",
    "        print (\"Средняя оценка:\", avg, \"Средний экзамен:\", avg_ex)\n",
    "    return\n",
    "    \n",
    "def commandthree(students_list):\n",
    "    counter = {}\n",
    "    for key in students_list:\n",
    "        counter[key.get('program_exp')] = key.get('program_exp')\n",
    "    #print(counter)\n",
    "    for key in counter: \n",
    "        if key is True: \n",
    "            print (\"Опытные\")\n",
    "        elif key is False: \n",
    "            print (\"Не опытные\")\n",
    "        i = 0\n",
    "        avg = 0\n",
    "        avg_ex = 0\n",
    "        for key2 in students_list:\n",
    "            if key2.get('program_exp') == key:\n",
    "                avgi = 0\n",
    "                ii = 0\n",
    "                for key3 in key2.get('grade'):\n",
    "                    avgi=avgi+key3\n",
    "                    ii = ii + 1\n",
    "                    #print(\"key\", key, \"key3\", key3, \"avg\", avg, \"avgi\", avgi, \"i\", i, \"ii\", ii)\n",
    "                i = i + 1\n",
    "                avg = avg + avgi/ii\n",
    "                avg_ex = avg_ex + key2.get('exam')\n",
    "        avg = avg/i\n",
    "        avg_ex = avg_ex/i\n",
    "        print (\"Средняя оценка:\", avg, \"Средний экзамен:\", avg_ex)\n",
    "    return\n",
    "    \n",
    "\n",
    "print (\"Введите комманду от 1 до 3\")\n",
    "command = int(input())\n",
    "if command == 1:\n",
    "    commandone(students_list)\n",
    "elif command == 2:\n",
    "    commandtwo(students_list)\n",
    "elif command == 3:\n",
    "    commandthree(students_list)\n"
   ]
  }
 ],
 "metadata": {
  "kernelspec": {
   "display_name": "Python 3",
   "language": "python",
   "name": "python3"
  },
  "language_info": {
   "codemirror_mode": {
    "name": "ipython",
    "version": 3
   },
   "file_extension": ".py",
   "mimetype": "text/x-python",
   "name": "python",
   "nbconvert_exporter": "python",
   "pygments_lexer": "ipython3",
   "version": "3.7.3"
  }
 },
 "nbformat": 4,
 "nbformat_minor": 2
}

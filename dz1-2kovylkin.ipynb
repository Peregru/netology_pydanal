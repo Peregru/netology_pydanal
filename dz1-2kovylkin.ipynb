{
 "cells": [
  {
   "cell_type": "markdown",
   "metadata": {},
   "source": [
    "## Задание 1"
   ]
  },
  {
   "cell_type": "markdown",
   "metadata": {},
   "source": [
    "Дан список с визитами по городам и странам. \n",
    "Напишите код, который возвращает отфильтрованный список geo_logs, содержащий только визиты из России."
   ]
  },
  {
   "cell_type": "code",
   "execution_count": 1,
   "metadata": {},
   "outputs": [],
   "source": [
    "geo_logs = [\n",
    "    {'visit1': ['Москва', 'Россия']},\n",
    "    {'visit2': ['Дели', 'Индия']},\n",
    "    {'visit3': ['Владимир', 'Россия']},\n",
    "    {'visit4': ['Лиссабон', 'Португалия']},\n",
    "    {'visit5': ['Париж', 'Франция']},\n",
    "    {'visit6': ['Лиссабон', 'Португалия']},\n",
    "    {'visit7': ['Тула', 'Россия']},\n",
    "    {'visit8': ['Тула', 'Россия']},\n",
    "    {'visit9': ['Курск', 'Россия']},\n",
    "    {'visit10': ['Архангельск', 'Россия']}\n",
    "]"
   ]
  },
  {
   "cell_type": "code",
   "execution_count": 99,
   "metadata": {},
   "outputs": [
    {
     "name": "stdout",
     "output_type": "stream",
     "text": [
      "Словарь {'visit1': ['Москва', 'Россия']}\n",
      "   Второй элемент Россия\n",
      "      ОСТАВЛЯЕМ ВИЗИТ  {'visit1': ['Москва', 'Россия']}\n",
      "Словарь {'visit2': ['Дели', 'Индия']}\n",
      "   Второй элемент Индия\n",
      "Словарь {'visit3': ['Владимир', 'Россия']}\n",
      "   Второй элемент Россия\n",
      "      ОСТАВЛЯЕМ ВИЗИТ  {'visit3': ['Владимир', 'Россия']}\n",
      "Словарь {'visit4': ['Лиссабон', 'Португалия']}\n",
      "   Второй элемент Португалия\n",
      "Словарь {'visit5': ['Париж', 'Франция']}\n",
      "   Второй элемент Франция\n",
      "Словарь {'visit6': ['Лиссабон', 'Португалия']}\n",
      "   Второй элемент Португалия\n",
      "Словарь {'visit7': ['Тула', 'Россия']}\n",
      "   Второй элемент Россия\n",
      "      ОСТАВЛЯЕМ ВИЗИТ  {'visit7': ['Тула', 'Россия']}\n",
      "Словарь {'visit8': ['Тула', 'Россия']}\n",
      "   Второй элемент Россия\n",
      "      ОСТАВЛЯЕМ ВИЗИТ  {'visit8': ['Тула', 'Россия']}\n",
      "Словарь {'visit9': ['Курск', 'Россия']}\n",
      "   Второй элемент Россия\n",
      "      ОСТАВЛЯЕМ ВИЗИТ  {'visit9': ['Курск', 'Россия']}\n",
      "Словарь {'visit10': ['Архангельск', 'Россия']}\n",
      "   Второй элемент Россия\n",
      "      ОСТАВЛЯЕМ ВИЗИТ  {'visit10': ['Архангельск', 'Россия']}\n",
      "Новый список:\n",
      "[{'visit1': ['Москва', 'Россия']}, {'visit3': ['Владимир', 'Россия']}, {'visit7': ['Тула', 'Россия']}, {'visit8': ['Тула', 'Россия']}, {'visit9': ['Курск', 'Россия']}, {'visit10': ['Архангельск', 'Россия']}]\n"
     ]
    }
   ],
   "source": [
    "geo_logs = [\n",
    "    {'visit1': ['Москва', 'Россия']},\n",
    "    {'visit2': ['Дели', 'Индия']},\n",
    "    {'visit3': ['Владимир', 'Россия']},\n",
    "    {'visit4': ['Лиссабон', 'Португалия']},\n",
    "    {'visit5': ['Париж', 'Франция']},\n",
    "    {'visit6': ['Лиссабон', 'Португалия']},\n",
    "    {'visit7': ['Тула', 'Россия']},\n",
    "    {'visit8': ['Тула', 'Россия']},\n",
    "    {'visit9': ['Курск', 'Россия']},\n",
    "    {'visit10': ['Архангельск', 'Россия']}\n",
    "]\n",
    "temp_logs = []\n",
    "for key in geo_logs:\n",
    "    print (\"Словарь\",key)\n",
    "    for key2 in key:\n",
    "        inner_list = key[key2]\n",
    "        criterion = inner_list[1]\n",
    "        print (\"   Второй элемент\",criterion)\n",
    "    if criterion == \"Россия\":\n",
    "        temp_logs.append(key)\n",
    "        print (\"      ОСТАВЛЯЕМ ВИЗИТ \", key)\n",
    "print (\"Новый список:\")\n",
    "geo_logs = temp_logs\n",
    "print (geo_logs)\n",
    "\n",
    "#очень странно но через geo_logs.remove(key) или .pop скрипт не стал работать правильно и индексы будто сместились при удалении строк"
   ]
  },
  {
   "cell_type": "markdown",
   "metadata": {},
   "source": [
    "## Задание 2"
   ]
  },
  {
   "cell_type": "markdown",
   "metadata": {},
   "source": [
    "Выведите на экран все уникальные гео-ID из значений словаря ids. Т. е. список вида [213, 15, 54, 119, 98, 35]"
   ]
  },
  {
   "cell_type": "code",
   "execution_count": 100,
   "metadata": {},
   "outputs": [],
   "source": [
    "ids = {'user1': [213, 213, 213, 15, 213], \n",
    "       'user2': [54, 54, 119, 119, 119], \n",
    "       'user3': [213, 98, 98, 35]}\n"
   ]
  },
  {
   "cell_type": "code",
   "execution_count": 109,
   "metadata": {},
   "outputs": [
    {
     "name": "stdout",
     "output_type": "stream",
     "text": [
      "[213, 15, 54, 119, 98, 35]\n"
     ]
    }
   ],
   "source": [
    "ids = {'user1': [213, 213, 213, 15, 213], \n",
    "       'user2': [54, 54, 119, 119, 119], \n",
    "       'user3': [213, 98, 98, 35]}\n",
    "idss = []\n",
    "for key in ids:\n",
    "    in_user = ids[key]\n",
    "    for key2 in in_user:\n",
    "        if key2 not in idss:\n",
    "            idss.append(key2)\n",
    "print (idss)       \n",
    "    "
   ]
  },
  {
   "cell_type": "markdown",
   "metadata": {},
   "source": [
    "## Задание 3"
   ]
  },
  {
   "cell_type": "markdown",
   "metadata": {},
   "source": [
    "Дан список поисковых запросов. Получить распределение количества слов в них. \n",
    "Т. е. поисковых запросов из одного - слова 5%, из двух - 7%, из трех - 3% и т.д."
   ]
  },
  {
   "cell_type": "code",
   "execution_count": 110,
   "metadata": {},
   "outputs": [],
   "source": [
    "queries = [\n",
    "    'смотреть сериалы онлайн',\n",
    "    'новости спорта',\n",
    "    'афиша кино',\n",
    "    'курс доллара',\n",
    "    'сериалы этим летом',\n",
    "    'курс по питону',\n",
    "    'сериалы про спорт',\n",
    "]"
   ]
  },
  {
   "cell_type": "code",
   "execution_count": 5,
   "metadata": {},
   "outputs": [
    {
     "name": "stdout",
     "output_type": "stream",
     "text": [
      "Слов: вхождений {3: 4, 2: 3}\n",
      "Вхождений с  3 слов 57.14285714285714 %\n",
      "Вхождений с  2 слов 42.857142857142854 %\n"
     ]
    }
   ],
   "source": [
    "queries = [\n",
    "    'смотреть сериалы онлайн',\n",
    "    'новости спорта',\n",
    "    'афиша кино',\n",
    "    'курс доллара',\n",
    "    'сериалы этим летом',\n",
    "    'курс по питону',\n",
    "    'сериалы про спорт',\n",
    "]\n",
    "q_word = {}\n",
    "for key in queries:\n",
    "    w_len = len(key.split())\n",
    "    if w_len in q_word.keys():\n",
    "        i = q_word[w_len]\n",
    "        i = i+1\n",
    "        q_word[w_len] = i\n",
    "    else: q_word[w_len] = 1\n",
    "print (\"Слов: вхождений\", q_word)\n",
    "i = 0\n",
    "for key in q_word:\n",
    "    i=i+q_word[key]\n",
    "for key in q_word:\n",
    "    print (\"Вхождений с \", key, \"слов\", (q_word[key]/i)*100, \"%\")\n",
    "\n"
   ]
  },
  {
   "cell_type": "code",
   "execution_count": null,
   "metadata": {},
   "outputs": [],
   "source": []
  },
  {
   "cell_type": "markdown",
   "metadata": {},
   "source": [
    "## Задание 4"
   ]
  },
  {
   "cell_type": "markdown",
   "metadata": {},
   "source": [
    "Дана статистика рекламных каналов по объемам продаж. Напишите скрипт, который возвращает название канала с максимальным объемом.\n",
    "Т. е. в данном примере скрипт должен возвращать 'yandex'."
   ]
  },
  {
   "cell_type": "code",
   "execution_count": 111,
   "metadata": {},
   "outputs": [],
   "source": [
    "stats = {'facebook': 55, 'yandex': 120, 'vk': 115, 'google': 99, 'email': 42, 'ok': 98}"
   ]
  },
  {
   "cell_type": "code",
   "execution_count": 4,
   "metadata": {},
   "outputs": [
    {
     "name": "stdout",
     "output_type": "stream",
     "text": [
      "\n",
      "\n",
      "yandex\n"
     ]
    }
   ],
   "source": [
    "stats = {'facebook': 55, 'yandex': 120, 'vk': 115, 'google': 99, 'email': 42, 'ok': 98}\n",
    "check_sum = 0\n",
    "for key in stats:\n",
    "    if check_sum < int(stats[key]):\n",
    "        this_key = key\n",
    "        check_sum = int(stats[key])\n",
    "        print ()\n",
    "print (this_key)\n",
    "    "
   ]
  },
  {
   "cell_type": "code",
   "execution_count": null,
   "metadata": {},
   "outputs": [],
   "source": []
  },
  {
   "cell_type": "markdown",
   "metadata": {},
   "source": [
    "## Задание 5"
   ]
  },
  {
   "cell_type": "markdown",
   "metadata": {},
   "source": [
    "Дан поток логов по количеству просмотренных страниц для каждого пользователя. Список отсортирован по ID пользователя. Вам необходимо написать алгоритм, который считает среднее значение просмотров на пользователя. \n",
    "Т. е. надо посчитать отношение суммы всех просмотров к количеству уникальных пользователей."
   ]
  },
  {
   "cell_type": "code",
   "execution_count": 6,
   "metadata": {},
   "outputs": [],
   "source": [
    "stream = [\n",
    "    '2018-01-01,user1,3',\n",
    "    '2018-01-07,user1,4',\n",
    "    '2018-03-29,user1,1',\n",
    "    '2018-04-04,user1,13',\n",
    "    '2018-01-05,user2,7',\n",
    "    '2018-06-14,user3,4',\n",
    "    '2018-07-02,user3,10',\n",
    "    '2018-03-21,user4,19',\n",
    "    '2018-03-22,user4,4',\n",
    "    '2018-04-22,user4,8',\n",
    "    '2018-05-03,user4,9',\n",
    "    '2018-05-11,user4,11',\n",
    "]"
   ]
  },
  {
   "cell_type": "code",
   "execution_count": 42,
   "metadata": {},
   "outputs": [
    {
     "name": "stdout",
     "output_type": "stream",
     "text": [
      "Промрез с колвом:  {'user1': 4, 'user2': 1, 'user3': 2, 'user4': 5}\n",
      "Промрез с суммой минут:  {'user1': 21, 'user2': 7, 'user3': 14, 'user4': 51}\n",
      "Финрез:  {'user1': 5.25, 'user2': 7.0, 'user3': 7.0, 'user4': 10.2}\n"
     ]
    }
   ],
   "source": [
    "stream = [\n",
    "    '2018-01-01,user1,3',\n",
    "    '2018-01-07,user1,4',\n",
    "    '2018-03-29,user1,1',\n",
    "    '2018-04-04,user1,13',\n",
    "    '2018-01-05,user2,7',\n",
    "    '2018-06-14,user3,4',\n",
    "    '2018-07-02,user3,10',\n",
    "    '2018-03-21,user4,19',\n",
    "    '2018-03-22,user4,4',\n",
    "    '2018-04-22,user4,8',\n",
    "    '2018-05-03,user4,9',\n",
    "    '2018-05-11,user4,11',\n",
    "]\n",
    "#делим запятыми\n",
    "i=0\n",
    "for key in stream:\n",
    "    stream[i] = key.split(',')\n",
    "    i=i+1\n",
    "#print (stream)\n",
    "#собираем сумму\n",
    "q_stream = {}\n",
    "upcount = 0\n",
    "for key in range(len(stream)):\n",
    "    this_list = stream[key]\n",
    "   # print (key, this_list,q_stream.get(this_list[1]))\n",
    "    upcount = q_stream.get(this_list[1])\n",
    "    if upcount is None:\n",
    "        q_stream[this_list[1]]=1\n",
    "    else:\n",
    "        q_stream[this_list[1]]=upcount+1\n",
    "    upcount = 0\n",
    "    #key.append(this_list[2])\n",
    "print (\"Промрез с колвом: \",q_stream)\n",
    "s_stream = {}\n",
    "upcount = 0\n",
    "for key in range(len(stream)):\n",
    "    this_list = stream[key]\n",
    "    #print (key, this_list,s_stream.get(this_list[1]))\n",
    "    upcount = s_stream.get(this_list[1])\n",
    "    if upcount is None:\n",
    "        s_stream[this_list[1]]=int(this_list[2])\n",
    "    else:\n",
    "        s_stream[this_list[1]]=upcount+int(this_list[2])\n",
    "    upcount = 0\n",
    "print (\"Промрез с суммой минут: \",s_stream)\n",
    "res_stream = {}\n",
    "for key in s_stream:\n",
    "    res_stream[key]=s_stream[key]/q_stream[key]\n",
    "print (\"Финрез: \",res_stream)"
   ]
  },
  {
   "cell_type": "code",
   "execution_count": null,
   "metadata": {},
   "outputs": [],
   "source": []
  },
  {
   "cell_type": "markdown",
   "metadata": {},
   "source": [
    "## Задание 6"
   ]
  },
  {
   "cell_type": "markdown",
   "metadata": {},
   "source": [
    "Дана статистика рекламных кампаний по дням. Напишите алгоритм, который по паре дата-кампания ищет значение численного столбца. \n",
    "Т. е. для даты '2018-01-01' и 'google' нужно получить число 25. \n",
    "Считайте, что все комбинации дата-кампания уникальны."
   ]
  },
  {
   "cell_type": "code",
   "execution_count": 12,
   "metadata": {},
   "outputs": [],
   "source": [
    "stats = [\n",
    "    ['2018-01-01', 'google', 25],\n",
    "    ['2018-01-01', 'yandex', 65],\n",
    "    ['2018-01-01', 'market', 89],\n",
    "    ['2018-01-02', 'google', 574],\n",
    "    ['2018-01-02', 'yandex', 249],\n",
    "    ['2018-01-02', 'market', 994],\n",
    "    ['2018-01-03', 'google', 1843],\n",
    "    ['2018-01-03', 'yandex', 1327],\n",
    "    ['2018-01-03', 'market', 1764],\n",
    "]"
   ]
  },
  {
   "cell_type": "code",
   "execution_count": 64,
   "metadata": {},
   "outputs": [
    {
     "name": "stdout",
     "output_type": "stream",
     "text": [
      "По запросу  2018-01-01 google мы нашли такую статистику:  25\n"
     ]
    }
   ],
   "source": [
    "stats = [\n",
    "    ['2018-01-01', 'google', 25],\n",
    "    ['2018-01-01', 'yandex', 65],\n",
    "    ['2018-01-01', 'market', 89],\n",
    "    ['2018-01-02', 'google', 574],\n",
    "    ['2018-01-02', 'yandex', 249],\n",
    "    ['2018-01-02', 'market', 994],\n",
    "    ['2018-01-03', 'google', 1843],\n",
    "    ['2018-01-03', 'yandex', 1327],\n",
    "    ['2018-01-03', 'market', 1764],\n",
    "]\n",
    "\n",
    "#можно конечно заменить на инпуты но задачи не было\n",
    "input_date = \"2018-01-01\"\n",
    "input_source = \"google\"\n",
    "input_all = input_date + ' ' + input_source\n",
    "re_stats = {}\n",
    "for key in range(len(stats)):\n",
    "    re_stat_key = stats[key][0]+' '+stats[key][1]\n",
    "    re_stats[re_stat_key]=stats[key][2]\n",
    "print (\"По запросу \", input_all, \"мы нашли такую статистику: \", re_stats[input_all])    \n",
    "\n"
   ]
  }
 ],
 "metadata": {
  "kernelspec": {
   "display_name": "Python 3",
   "language": "python",
   "name": "python3"
  },
  "language_info": {
   "codemirror_mode": {
    "name": "ipython",
    "version": 3
   },
   "file_extension": ".py",
   "mimetype": "text/x-python",
   "name": "python",
   "nbconvert_exporter": "python",
   "pygments_lexer": "ipython3",
   "version": "3.7.3"
  }
 },
 "nbformat": 4,
 "nbformat_minor": 2
}

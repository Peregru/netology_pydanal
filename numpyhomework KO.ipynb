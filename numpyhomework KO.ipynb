{
 "cells": [
  {
   "cell_type": "markdown",
   "metadata": {},
   "source": [
    "Задание 1\n",
    "Создайте numpy array с элементами от числа N до 0 (например, для N = 10 это будет array([9, 8, 7, 6, 5, 4, 3, 2, 1, 0]))."
   ]
  },
  {
   "cell_type": "code",
   "execution_count": 25,
   "metadata": {},
   "outputs": [
    {
     "name": "stdout",
     "output_type": "stream",
     "text": [
      "А не ввели бы вы длинну массива?\n",
      "11\n",
      "Вы ввели примерно: 11\n",
      "вот вам [10  9  8  7  6  5  4  3  2  1  0]\n"
     ]
    }
   ],
   "source": [
    "import numpy as np\n",
    "\n",
    "print('А не ввели бы вы длинну массива?')\n",
    "array_lenght = int(round(float(input().replace(',','.'))))\n",
    "print('Вы ввели примерно:', array_lenght)\n",
    "\n",
    "my_array = np.arange(0, array_lenght)\n",
    "my_array = my_array[::-1]\n",
    "print('вот вам',my_array)"
   ]
  },
  {
   "cell_type": "markdown",
   "metadata": {},
   "source": [
    "Задание 2\n",
    "Создайте диагональную матрицу с элементами от N до 0. Посчитайте сумму ее значений на диагонали."
   ]
  },
  {
   "cell_type": "code",
   "execution_count": 32,
   "metadata": {},
   "outputs": [
    {
     "name": "stdout",
     "output_type": "stream",
     "text": [
      "А не ввели бы вы длинну массива?\n",
      "50\n",
      "Вы ввели примерно 50 Вот ваша матрица:\n",
      "[[ 0  0  0 ...  0  0  0]\n",
      " [ 0  1  0 ...  0  0  0]\n",
      " [ 0  0  2 ...  0  0  0]\n",
      " ...\n",
      " [ 0  0  0 ... 47  0  0]\n",
      " [ 0  0  0 ...  0 48  0]\n",
      " [ 0  0  0 ...  0  0 49]]\n",
      "А вот и сумма диагонали: 1225\n"
     ]
    }
   ],
   "source": [
    "import numpy as np\n",
    "\n",
    "print('А не ввели бы вы длинну массива?')\n",
    "array_lenght = int(round(float(input().replace(',','.'))))\n",
    "print('Вы ввели примерно', array_lenght, 'Вот ваша матрица:')\n",
    "\n",
    "my_array = np.diag(np.arange(array_lenght), k=0)\n",
    "print(my_array) \n",
    "my_summ = 0\n",
    "for key in range(array_lenght):\n",
    "    my_summ = my_summ + key\n",
    "\n",
    "print('А вот и сумма диагонали:', my_summ)\n",
    "    "
   ]
  },
  {
   "cell_type": "markdown",
   "metadata": {},
   "source": [
    "Задание 3\n",
    "Решите систему уравнений:\n",
    "4x + 2y + z = 4\n",
    "x + 3y = 12\n",
    "5y + 4z = -3"
   ]
  },
  {
   "cell_type": "code",
   "execution_count": 38,
   "metadata": {},
   "outputs": [
    {
     "name": "stdout",
     "output_type": "stream",
     "text": [
      "[-3.34285714  5.11428571  7.14285714]\n",
      "True\n"
     ]
    }
   ],
   "source": [
    "import numpy as np\n",
    "a = np.array( [ [4, 2, 1], [1, 3, 0], [0, 5, -4] ] )\n",
    "b = np.array( [4, 12, -3] )\n",
    "print(np.linalg.solve(a, b))\n",
    "print(np.allclose( np.dot(a, np.linalg.solve(a, b)), b ))"
   ]
  }
 ],
 "metadata": {
  "kernelspec": {
   "display_name": "Python 3",
   "language": "python",
   "name": "python3"
  },
  "language_info": {
   "codemirror_mode": {
    "name": "ipython",
    "version": 3
   },
   "file_extension": ".py",
   "mimetype": "text/x-python",
   "name": "python",
   "nbconvert_exporter": "python",
   "pygments_lexer": "ipython3",
   "version": "3.7.3"
  }
 },
 "nbformat": 4,
 "nbformat_minor": 2
}

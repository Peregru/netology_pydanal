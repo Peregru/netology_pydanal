{
 "cells": [
  {
   "cell_type": "markdown",
   "metadata": {},
   "source": [
    "Задание 1\n",
    "Напишите функцию, которая возвращает название валюты (поле ‘Name’) с максимальным значением курса с помощью сервиса https://www.cbr-xml-daily.ru/daily_json.js"
   ]
  },
  {
   "cell_type": "code",
   "execution_count": 25,
   "metadata": {},
   "outputs": [
    {
     "name": "stdout",
     "output_type": "stream",
     "text": [
      "Валюта с максимальным курсом сейчас Датских крон . Её курс: 97.4229\n"
     ]
    }
   ],
   "source": [
    "import requests\n",
    "\n",
    "full_data =  requests.get('https://www.cbr-xml-daily.ru/daily_json.js').json()\n",
    "#print (full_data)\n",
    "usd = full_data['Valute']['USD']['Value']\n",
    "mostexpencivevalute = ''\n",
    "mostexpencivevalutevalue = 0\n",
    "for key in full_data['Valute']:\n",
    "    if full_data['Valute'][key]['Value'] > mostexpencivevalutevalue:\n",
    "        mostexpencivevalutevalue = full_data['Valute'][key]['Value']\n",
    "        mostexpencivevalute = full_data['Valute'][key]['Name']\n",
    "        #print(key, full_data['Valute'][key]['Value'], ' - curent max')\n",
    "    #else: \n",
    "        #print(key, full_data['Valute'][key]['Value'])\n",
    "print(\"Валюта с максимальным курсом сейчас\", mostexpencivevalute, \". Её курс:\", mostexpencivevalutevalue)"
   ]
  },
  {
   "cell_type": "markdown",
   "metadata": {},
   "source": [
    "Задание 2\n",
    "Добавьте в класс Rate параметр diff (со значениями True или False), который в случае значения True в методах eur и usd будет возвращать не курс валюты, а изменение по сравнению в прошлым значением. Считайте, self.diff будет принимать значение True только при возврате значения курса. При отображении всей информации о валюте он не используется."
   ]
  },
  {
   "cell_type": "code",
   "execution_count": 90,
   "metadata": {},
   "outputs": [
    {
     "name": "stdout",
     "output_type": "stream",
     "text": [
      "-0.015000000000000568\n",
      "65.6046\n"
     ]
    }
   ],
   "source": [
    "import requests\n",
    "class Rate:\n",
    "    def __init__(self, diff=True, format_='value'):\n",
    "        self.format = format_\n",
    "        self.diff = diff\n",
    "    def exchange_rates(self):\n",
    "        \"\"\"\n",
    "        Возвращает ответ сервиса с информацией о валютах в виде:\n",
    "        \n",
    "        {\n",
    "            'AMD': {\n",
    "                'CharCode': 'AMD',\n",
    "                'ID': 'R01060',\n",
    "                'Name': 'Армянских драмов',\n",
    "                'Nominal': 100,\n",
    "                'NumCode': '051',\n",
    "                'Previous': 14.103,\n",
    "                'Value': 14.0879\n",
    "                },\n",
    "            ...\n",
    "        }\n",
    "        \"\"\"\n",
    "        r = requests.get('https://www.cbr-xml-daily.ru/daily_json.js')\n",
    "        return r.json()['Valute']\n",
    "    \n",
    "    def make_format(self, currency):\n",
    "        \"\"\"\n",
    "        Возвращает информацию о валюте currency в двух вариантах:\n",
    "        - полная информация о валюте при self.format = 'full':\n",
    "        Rate('full').make_format('EUR')\n",
    "        {\n",
    "            'CharCode': 'EUR',\n",
    "            'ID': 'R01239',\n",
    "            'Name': 'Евро',\n",
    "            'Nominal': 1,\n",
    "            'NumCode': '978',\n",
    "            'Previous': 79.6765,\n",
    "            'Value': 79.4966\n",
    "        }\n",
    "        \n",
    "        Rate('value').make_format('EUR')\n",
    "        79.4966\n",
    "        \"\"\"\n",
    "        response = self.exchange_rates()\n",
    "        \n",
    "        if currency in response:\n",
    "            if self.format == 'full':\n",
    "                return response[currency]\n",
    "            \n",
    "            if self.format == 'value' and self.diff == True:\n",
    "                return response[currency]['Value']\n",
    "            elif self.format == 'value' and self.diff == False:\n",
    "                return response[currency]['Value'] - response[currency]['Previous']\n",
    "        \n",
    "        return 'Error'\n",
    "    \n",
    "    def eur(self):\n",
    "        \"\"\"Возвращает курс евро на сегодня в формате self.format\"\"\"\n",
    "        return self.make_format('EUR')\n",
    "    \n",
    "    def usd(self):\n",
    "        \"\"\"Возвращает курс доллара на сегодня в формате self.format\"\"\"\n",
    "        return self.make_format('USD')\n",
    "r=Rate(diff=False)\n",
    "r2=Rate()\n",
    "print(r.usd())\n",
    "print(r2.usd())\n"
   ]
  },
  {
   "cell_type": "markdown",
   "metadata": {},
   "source": [
    "Напишите класс Designer, который учитывает количество международных премий. Подсказки в коде занятия в разделе “Домашнее задание задача 3”.\n",
    "\n",
    "Домашнее задание задача 3\n",
    "Напишите класс Designer, который учитывает количество международных премий для дизайнеров. Считайте, что при выходе на работу сотрудник уже имеет две премии и их количество не меняется со стажем (конечно если хотите это можно вручную менять). Выполните проверку для 20 аккредитаций дизайнера Елены.\n",
    "\n",
    "elena = Designer('Елена', seniority=0, awards=2)\n",
    "\n",
    "for i in range(20):\n",
    "    elena.check_if_it_is_time_for_upgrade()\n",
    "    \n",
    "Так как в задаче не указан окак именно влияют награды на грейд, просто суммирую их с сеньёрити"
   ]
  },
  {
   "cell_type": "code",
   "execution_count": 11,
   "metadata": {},
   "outputs": [
    {
     "name": "stdout",
     "output_type": "stream",
     "text": [
      "Елена 1 3\n",
      "Елена 1 4\n",
      "Елена 2 5\n",
      "Елена 2 6\n",
      "Елена 2 7\n",
      "Елена 2 8\n",
      "Елена 2 9\n",
      "Елена 3 10\n",
      "Елена 3 11\n",
      "Елена 3 12\n",
      "Елена 3 13\n",
      "Елена 3 14\n",
      "Елена 4 15\n",
      "Елена 4 16\n",
      "Елена 4 17\n",
      "Елена 4 18\n",
      "Елена 4 19\n",
      "Елена 5 20\n",
      "Елена 5 21\n",
      "Елена 5 22\n"
     ]
    }
   ],
   "source": [
    "class Employee:\n",
    "    def __init__(self, name, seniority, awards):\n",
    "        self.name = name\n",
    "        self.seniority = seniority\n",
    "        self.awards = awards \n",
    "        self.grade = 1\n",
    "    \n",
    "    def grade_up(self):\n",
    "        \"\"\"Повышает уровень сотрудника\"\"\"\n",
    "        self.grade += 1\n",
    "        \n",
    "    def publish_grade(self):\n",
    "        \"\"\"Публикация результатов аккредитации сотрудников\"\"\"\n",
    "        print(self.name, self.grade, self.seniority)\n",
    "\n",
    "class Designer(Employee):\n",
    "    def __init__(self, name, seniority, awards):\n",
    "        super().__init__(name, seniority, awards)\n",
    "    \n",
    "    def check_if_it_is_time_for_upgrade(self):\n",
    "        # для каждой аккредитации увеличиваем счетчик на 1\n",
    "        # пока считаем, что все разработчики проходят аккредитацию\n",
    "        if self.seniority <= 1:\n",
    "            self.seniority = self.seniority + self.awards\n",
    "        self.seniority += 1\n",
    "        \n",
    "        # условие повышения сотрудника из презентации\n",
    "        if self.seniority % 5 == 0:\n",
    "            self.grade_up()\n",
    "        \n",
    "        # публикация результатов\n",
    "        return self.publish_grade()\n",
    "\n",
    "elena = Designer('Елена', seniority=0, awards=2)\n",
    "\n",
    "for i in range(20):\n",
    "    elena.check_if_it_is_time_for_upgrade()"
   ]
  },
  {
   "cell_type": "markdown",
   "metadata": {},
   "source": [
    "Тестим как работает конструктор селф/инит - нихрена непонятно"
   ]
  },
  {
   "cell_type": "code",
   "execution_count": 63,
   "metadata": {},
   "outputs": [
    {
     "name": "stdout",
     "output_type": "stream",
     "text": [
      "brown\n",
      "green\n",
      "brown\n",
      "green\n",
      "brown\n",
      "brown\n",
      "brown\n",
      "green\n",
      "green\n"
     ]
    }
   ],
   "source": [
    "class R1:\n",
    "   color = \"green\"\n",
    "\n",
    "rect1 = R1()\n",
    "rect2 = R1()\n",
    "rect1.color = \"brown\"\n",
    "print(rect1.color)\n",
    "print(rect2.color)\n",
    "\n",
    "\n",
    "class R2:\n",
    "   def __init__(self, color=\"green\"):\n",
    "       self.color = color\n",
    "        \n",
    "rect3 = R2()\n",
    "rect4 = R2()\n",
    "rect3.color = \"brown\"\n",
    "print(rect3.color)\n",
    "print(rect4.color)\n",
    "\n",
    "R1.color = \"brown\"\n",
    "R2.color = \"brown\"\n",
    "print(rect1.color)\n",
    "print(rect2.color)\n",
    "print(rect3.color)\n",
    "print(rect4.color)\n",
    "rect5 = R2()\n",
    "print(rect5.color)"
   ]
  }
 ],
 "metadata": {
  "kernelspec": {
   "display_name": "Python 3",
   "language": "python",
   "name": "python3"
  },
  "language_info": {
   "codemirror_mode": {
    "name": "ipython",
    "version": 3
   },
   "file_extension": ".py",
   "mimetype": "text/x-python",
   "name": "python",
   "nbconvert_exporter": "python",
   "pygments_lexer": "ipython3",
   "version": "3.7.3"
  }
 },
 "nbformat": 4,
 "nbformat_minor": 2
}
